{
 "cells": [
  {
   "cell_type": "code",
   "execution_count": 3,
   "metadata": {
    "collapsed": true
   },
   "outputs": [
    {
     "ename": "ImportError",
     "evalue": "dlopen(/Users/hamzaharunamohammed/miniforge3/envs/pocProject/lib/python3.8/site-packages/ahocorasick.cpython-38-darwin.so, 0x0002): tried: '/Users/hamzaharunamohammed/miniforge3/envs/pocProject/lib/python3.8/site-packages/ahocorasick.cpython-38-darwin.so' (mach-o file, but is an incompatible architecture (have (x86_64), need (arm64e)))",
     "output_type": "error",
     "traceback": [
      "\u001B[0;31m---------------------------------------------------------------------------\u001B[0m",
      "\u001B[0;31mImportError\u001B[0m                               Traceback (most recent call last)",
      "Cell \u001B[0;32mIn [3], line 1\u001B[0m\n\u001B[0;32m----> 1\u001B[0m \u001B[38;5;28;01mfrom\u001B[39;00m \u001B[38;5;21;01mtextsearch\u001B[39;00m \u001B[38;5;28;01mimport\u001B[39;00m TextSearch\n\u001B[1;32m      3\u001B[0m ts \u001B[38;5;241m=\u001B[39m TextSearch(case\u001B[38;5;241m=\u001B[39m\u001B[38;5;124m\"\u001B[39m\u001B[38;5;124mignore\u001B[39m\u001B[38;5;124m\"\u001B[39m, returns\u001B[38;5;241m=\u001B[39m\u001B[38;5;124m\"\u001B[39m\u001B[38;5;124mmatch\u001B[39m\u001B[38;5;124m\"\u001B[39m)\n\u001B[1;32m      4\u001B[0m ts\u001B[38;5;241m.\u001B[39madd(\u001B[38;5;124m\"\u001B[39m\u001B[38;5;124mhi\u001B[39m\u001B[38;5;124m\"\u001B[39m)\n",
      "File \u001B[0;32m~/miniforge3/envs/pocProject/lib/python3.8/site-packages/textsearch/__init__.py:4\u001B[0m\n\u001B[1;32m      2\u001B[0m \u001B[38;5;28;01mimport\u001B[39;00m \u001B[38;5;21;01mstring\u001B[39;00m\n\u001B[1;32m      3\u001B[0m \u001B[38;5;28;01mfrom\u001B[39;00m \u001B[38;5;21;01manyascii\u001B[39;00m \u001B[38;5;28;01mimport\u001B[39;00m anyascii\n\u001B[0;32m----> 4\u001B[0m \u001B[38;5;28;01mimport\u001B[39;00m \u001B[38;5;21;01mahocorasick\u001B[39;00m\n\u001B[1;32m      6\u001B[0m ALPHANUM \u001B[38;5;241m=\u001B[39m \u001B[38;5;28mset\u001B[39m(string\u001B[38;5;241m.\u001B[39mdigits \u001B[38;5;241m+\u001B[39m string\u001B[38;5;241m.\u001B[39mascii_letters \u001B[38;5;241m+\u001B[39m \u001B[38;5;124m'\u001B[39m\u001B[38;5;124m_\u001B[39m\u001B[38;5;124m'\u001B[39m)\n\u001B[1;32m      7\u001B[0m ALPHA \u001B[38;5;241m=\u001B[39m \u001B[38;5;28mset\u001B[39m(string\u001B[38;5;241m.\u001B[39mascii_letters)\n",
      "\u001B[0;31mImportError\u001B[0m: dlopen(/Users/hamzaharunamohammed/miniforge3/envs/pocProject/lib/python3.8/site-packages/ahocorasick.cpython-38-darwin.so, 0x0002): tried: '/Users/hamzaharunamohammed/miniforge3/envs/pocProject/lib/python3.8/site-packages/ahocorasick.cpython-38-darwin.so' (mach-o file, but is an incompatible architecture (have (x86_64), need (arm64e)))"
     ]
    }
   ],
   "source": [
    "from textsearch import TextSearch\n",
    "\n",
    "ts = TextSearch(case=\"ignore\", returns=\"match\")\n",
    "ts.add(\"hi\")\n",
    "ts.findall(\"hello are you, hi\")\n",
    "# [\"hi\"]"
   ]
  },
  {
   "cell_type": "code",
   "execution_count": null,
   "outputs": [],
   "source": [],
   "metadata": {
    "collapsed": false,
    "pycharm": {
     "name": "#%%\n"
    }
   }
  },
  {
   "cell_type": "code",
   "execution_count": 11,
   "outputs": [
    {
     "data": {
      "text/plain": "False"
     },
     "execution_count": 11,
     "metadata": {},
     "output_type": "execute_result"
    }
   ],
   "source": [
    "import regex as re\n",
    "\n",
    "wanted_values = (\"car\", \"motorbike\")\n",
    "# all(vehicle in text for text in wanted_values)\n",
    "\n",
    "l = ['some car and motorbike',\n",
    "     'a motorbike by a car',\n",
    "     'the car was followed by a motor']\n",
    "'''\n",
    "lines_with_vehicles = [text for text in l\n",
    "                       if all(vehicle in text for text in wanted_values)]'''\n",
    "\n",
    "# no particular order\n",
    "car_and_motorbike_pattern = re.compile(r'(car.*motorbike|motorbike.*car)')\n",
    "all(car_and_motorbike_pattern.search(text) for text in l)\n",
    "\n",
    "# This works too\n",
    "car_or_motorbike_pattern = re.compile(r'(car|motorbike)')\n",
    "get_vehicles = car_or_motorbike_pattern.findall\n",
    "all(len(set(get_vehicles(text))) == 2 for text in l)"
   ],
   "metadata": {
    "collapsed": false,
    "pycharm": {
     "name": "#%%\n"
    }
   }
  },
  {
   "cell_type": "code",
   "execution_count": 8,
   "outputs": [
    {
     "name": "stdout",
     "output_type": "stream",
     "text": [
      "['car', 'motorbike']\n",
      "['motorbike', 'car']\n",
      "['car', 'motorbike']\n"
     ]
    }
   ],
   "source": [
    "for text in l:\n",
    "     print(get_vehicles(text))"
   ],
   "metadata": {
    "collapsed": false,
    "pycharm": {
     "name": "#%%\n"
    }
   }
  },
  {
   "cell_type": "code",
   "execution_count": 26,
   "outputs": [
    {
     "name": "stdout",
     "output_type": "stream",
     "text": [
      "['I tillegg er det påkrevd å gjennomføre daglig kontroll av rulletrappen eller rullebåndet før den/det slås på og av']\n"
     ]
    }
   ],
   "source": [
    "def check(sentence, words):\n",
    "    res = list(map(lambda x: all(map(lambda y: y.lower() in x.lower().split(),\n",
    "                                     words)), sentence))\n",
    "    return [sentence[i] for i in range(0, len(res)) if res[i]]\n",
    "\n",
    "\n",
    "# Driver code\n",
    "sentence = [\"I tillegg er det påkrevd å gjennomføre daglig kontroll av rulletrappen eller rullebåndet før den/det slås på og av\",\n",
    "            \"Inspiser 700 P-elektronikkmodulen minst én gang daglig for ytre, synlige skader og feil\"\n",
    "            ]\n",
    "\n",
    "words = ['kontroll', 'Daglig']\n",
    "print(check(sentence, words))\n"
   ],
   "metadata": {
    "collapsed": false,
    "pycharm": {
     "name": "#%%\n"
    }
   }
  },
  {
   "cell_type": "code",
   "execution_count": null,
   "outputs": [],
   "source": [],
   "metadata": {
    "collapsed": false,
    "pycharm": {
     "name": "#%%\n"
    }
   }
  }
 ],
 "metadata": {
  "kernelspec": {
   "display_name": "Python 3",
   "language": "python",
   "name": "python3"
  },
  "language_info": {
   "codemirror_mode": {
    "name": "ipython",
    "version": 2
   },
   "file_extension": ".py",
   "mimetype": "text/x-python",
   "name": "python",
   "nbconvert_exporter": "python",
   "pygments_lexer": "ipython2",
   "version": "2.7.6"
  }
 },
 "nbformat": 4,
 "nbformat_minor": 0
}